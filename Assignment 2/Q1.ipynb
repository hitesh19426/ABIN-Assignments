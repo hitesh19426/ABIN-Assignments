{
 "cells": [
  {
   "cell_type": "code",
   "execution_count": 28,
   "source": [
    "DNAs = [\"ATTAGACCTG\", \"CCTGCCGGAA\", \"AGACCTGCCG\", \"GCCGGAATAC\"]\r\n",
    "# DNAs = [\"TTAACACTTTCGGATATTTCTGATG\", \"CTTTCGGATATTTCTGATGAGTCGA\"]\r\n",
    "# uncomment above line to run for second test case\r\n",
    "\r\n",
    "def removeFromList(DNAs, index):\r\n",
    "    DNAs.pop(index)\r\n",
    "    return DNAs\r\n",
    "\r\n",
    "def returnShortest(DNAs):\r\n",
    "    if len(DNAs) == 0:\r\n",
    "        return DNAs\r\n",
    "    \r\n",
    "    last = DNAs[-1]\r\n",
    "    DNAs.pop()\r\n",
    "    DNAs.append(last)\r\n",
    "    return DNAs\r\n",
    "\r\n",
    "def find_shortest_superstring(DNAs, superstring=\"\"):\r\n",
    "    if (len(DNAs) == 0):\r\n",
    "        return superstring\r\n",
    "    \r\n",
    "    if (len(superstring) == 0):\r\n",
    "        superstring = DNAs[0]\r\n",
    "        DNAs = removeFromList(DNAs, 0)\r\n",
    "        DNAs = returnShortest(DNAs)\r\n",
    "        return find_shortest_superstring(DNAs, superstring)\r\n",
    "    \r\n",
    "    for i in range(0, len(DNAs)):\r\n",
    "        dna = DNAs[i]\r\n",
    "        length = len(dna)\r\n",
    "        overlap_len = length//2\r\n",
    "\r\n",
    "        for j in range(overlap_len):\r\n",
    "            diff = length-j\r\n",
    "            diff = (diff)-overlap_len\r\n",
    "        \r\n",
    "        for j in range(overlap_len):\r\n",
    "            diff = length-j\r\n",
    "            if superstring.startswith(dna[j:]):\r\n",
    "                DNAs = removeFromList(DNAs, i)\r\n",
    "                DNAs = returnShortest(DNAs)\r\n",
    "                return find_shortest_superstring(DNAs, dna[:j]+superstring)\r\n",
    "        \r\n",
    "            if (superstring.endswith(dna[:diff])):\r\n",
    "                DNAs = removeFromList(DNAs, i)\r\n",
    "                DNAs = returnShortest(DNAs)\r\n",
    "                return find_shortest_superstring(DNAs, superstring+dna[diff:])\r\n",
    "\r\n",
    "DNAs_copy = []\r\n",
    "for dna in DNAs:\r\n",
    "    DNAs_copy.append(dna)\r\n",
    "ans = find_shortest_superstring(DNAs)\r\n",
    "\r\n",
    "count = 1\r\n",
    "for dna in DNAs_copy:\r\n",
    "    print('Dna ', count, ':', dna)\r\n",
    "    count += 1\r\n",
    "print('\\nShortest superstring for given input: \\n', ans)"
   ],
   "outputs": [
    {
     "output_type": "stream",
     "name": "stdout",
     "text": [
      "Dna  1 : ATTAGACCTG\n",
      "Dna  2 : CCTGCCGGAA\n",
      "Dna  3 : AGACCTGCCG\n",
      "Dna  4 : GCCGGAATAC\n",
      "\n",
      "Shortest superstring for given input: \n",
      " ATTAGACCTGCCGGAATAC\n"
     ]
    }
   ],
   "metadata": {}
  }
 ],
 "metadata": {
  "orig_nbformat": 4,
  "language_info": {
   "name": "python",
   "version": "3.9.7",
   "mimetype": "text/x-python",
   "codemirror_mode": {
    "name": "ipython",
    "version": 3
   },
   "pygments_lexer": "ipython3",
   "nbconvert_exporter": "python",
   "file_extension": ".py"
  },
  "kernelspec": {
   "name": "python3",
   "display_name": "Python 3.9.7 64-bit"
  },
  "interpreter": {
   "hash": "c9d0e44e1af8a4fe8a3c59f611dbde73d972ad7f1d10b20fb5d7e03f782a71e5"
  }
 },
 "nbformat": 4,
 "nbformat_minor": 2
}