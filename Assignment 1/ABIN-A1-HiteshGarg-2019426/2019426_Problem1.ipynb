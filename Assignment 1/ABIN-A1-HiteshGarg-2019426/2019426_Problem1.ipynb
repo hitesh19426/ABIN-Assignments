{
 "cells": [
  {
   "cell_type": "code",
   "execution_count": 1,
   "source": [
    "# Defining the DNA sequences\r\n",
    "s = \"GATATATGCATATACTT\"\r\n",
    "t = \"ATAT\"\r\n",
    "\r\n",
    "# --- Uncomment this section to take input from terminal ---- #\r\n",
    "# s = input(\"Enter the first string:\")\r\n",
    "# t = input(\"Enter the second string:\")\r\n",
    "# --- Uncomment this section to take input from terminal ---- #\r\n",
    "\r\n",
    "# fuction to find indexes of string t in string s\r\n",
    "def find_substring(s, t):\r\n",
    "    # starting from 0 index, we find the first position of string t in string s. \r\n",
    "    start = 0\r\n",
    "    index = s.find(t, start)\r\n",
    "    indexes = []\r\n",
    "\r\n",
    "    # If that index is found, then we update start position to the index+1 and \r\n",
    "    # again find the string t until we no longer can do so\r\n",
    "    while(index != -1):\r\n",
    "        indexes.append(index+1)\r\n",
    "        start = index+1\r\n",
    "        index = s.find(t, start)\r\n",
    "    return indexes\r\n",
    "\r\n",
    "# Printing the positions where string t in found in s\r\n",
    "print(\"string s = \" + s)    # comment this to not print sequences\r\n",
    "print(\"string t = \" + t)    # comment this to not print sequences\r\n",
    "print(\"Indexes at which string t is found in s:\")\r\n",
    "print(find_substring(s, t))"
   ],
   "outputs": [
    {
     "output_type": "stream",
     "name": "stdout",
     "text": [
      "string s = GATATATGCATATACTT\n",
      "string t = ATAT\n",
      "Indexes at which string t is found in s:\n",
      "[2, 4, 10]\n"
     ]
    }
   ],
   "metadata": {}
  }
 ],
 "metadata": {
  "orig_nbformat": 4,
  "language_info": {
   "name": "python",
   "version": "3.9.7",
   "mimetype": "text/x-python",
   "codemirror_mode": {
    "name": "ipython",
    "version": 3
   },
   "pygments_lexer": "ipython3",
   "nbconvert_exporter": "python",
   "file_extension": ".py"
  },
  "kernelspec": {
   "name": "python3",
   "display_name": "Python 3.9.7 64-bit"
  },
  "interpreter": {
   "hash": "c9d0e44e1af8a4fe8a3c59f611dbde73d972ad7f1d10b20fb5d7e03f782a71e5"
  }
 },
 "nbformat": 4,
 "nbformat_minor": 2
}