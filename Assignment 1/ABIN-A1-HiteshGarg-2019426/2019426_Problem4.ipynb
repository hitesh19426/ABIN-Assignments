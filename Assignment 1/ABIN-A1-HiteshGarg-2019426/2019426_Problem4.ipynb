{
 "cells": [
  {
   "cell_type": "code",
   "execution_count": 3,
   "source": [
    "# defining the DNA sequences\r\n",
    "s = \"GAGCCTACTAACGGGAT\"\r\n",
    "t = \"CATCGTAATGACGGCCT\"\r\n",
    "\r\n",
    "# --- Uncomment this section to take input from terminal ---- #\r\n",
    "# s = input(\"Enter the first string:\")\r\n",
    "# t = input(\"Enter the second string:\")\r\n",
    "# --- Uncomment this section to take input from terminal ---- #\r\n",
    "\r\n",
    "# function to calculate hamming distance\r\n",
    "def D(s, t):\r\n",
    "    if(len(s)!= len(t)):\r\n",
    "        print(\"distances of sequences in not equal ;) Please enter equal length sequences\")\r\n",
    "        return -1\r\n",
    "    \r\n",
    "    # variable to count unmatched characters\r\n",
    "    hamming_distance = 0\r\n",
    "    # iterate over the sequence s and t simultaneously and if mismatch is found\r\n",
    "    # increase hamming distance variable\r\n",
    "    for i in range(0, len(s)-1):\r\n",
    "        if(s[i] != t[i]):\r\n",
    "            hamming_distance += 1\r\n",
    "    return hamming_distance\r\n",
    "\r\n",
    "# printing the hamming distance between s and t\r\n",
    "print(\"string s = \" + s)    # comment this to not print dna sequences\r\n",
    "print(\"string t = \" + t)    # comment this to not print dna sequences\r\n",
    "print(\"\\nHamming distance between s and t:\")\r\n",
    "print(D(s, t))"
   ],
   "outputs": [
    {
     "output_type": "stream",
     "name": "stdout",
     "text": [
      "string s = GAGCCTACTAACGGGAT\n",
      "string t = CATCGTAATGACGGCCT\n",
      "\n",
      "Hamming distance between s and t:\n",
      "7\n"
     ]
    }
   ],
   "metadata": {}
  }
 ],
 "metadata": {
  "orig_nbformat": 4,
  "language_info": {
   "name": "python",
   "version": "3.9.7",
   "mimetype": "text/x-python",
   "codemirror_mode": {
    "name": "ipython",
    "version": 3
   },
   "pygments_lexer": "ipython3",
   "nbconvert_exporter": "python",
   "file_extension": ".py"
  },
  "kernelspec": {
   "name": "python3",
   "display_name": "Python 3.9.7 64-bit"
  },
  "interpreter": {
   "hash": "c9d0e44e1af8a4fe8a3c59f611dbde73d972ad7f1d10b20fb5d7e03f782a71e5"
  }
 },
 "nbformat": 4,
 "nbformat_minor": 2
}