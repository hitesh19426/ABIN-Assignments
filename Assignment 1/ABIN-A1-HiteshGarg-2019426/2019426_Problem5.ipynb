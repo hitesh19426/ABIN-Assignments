{
 "cells": [
  {
   "cell_type": "code",
   "execution_count": 1,
   "source": [
    "# Defining the strings to compare\r\n",
    "s = \"INTENTION\"\r\n",
    "t = \"EXECUTION\"\r\n",
    "\r\n",
    "# --- Uncomment this section to take input from terminal ---- #\r\n",
    "# s = input(\"Enter the first string:\")\r\n",
    "# t = input(\"Enter the second string:\")\r\n",
    "# --- Uncomment this section to take input from terminal ---- #\r\n",
    "\r\n",
    "# function to find the edit distance between s and t.\r\n",
    "def D(s, t):\r\n",
    "    m = len(s)\r\n",
    "    n = len(t)\r\n",
    "\r\n",
    "    # creating a dp matrix of size m+1 and n+1 and initializing it with 0.\r\n",
    "    dp = []\r\n",
    "    for r in range(0, m+1):\r\n",
    "        dp.append([0 for c in range(0, n+1)])\r\n",
    "\r\n",
    "    # For sequence of length 0, edit distance is be length of other sequnce.\r\n",
    "    for i in range(0, m+1):\r\n",
    "        dp[i][0] = i\r\n",
    "    for j in range(0, n+1):\r\n",
    "        dp[0][j] = j\r\n",
    "\r\n",
    "    # using the dp recurence, we fill the value for each dp state\r\n",
    "    for i in range(1, m+1):\r\n",
    "        for j in range(1, n+1):\r\n",
    "            if(s[i-1] == t[j-1]):\r\n",
    "                dp[i][j] = dp[i-1][j-1]\r\n",
    "            else:\r\n",
    "                dp[i][j] = min(dp[i-1][j], dp[i][j-1], dp[i-1][j-1]) + 1\r\n",
    "\r\n",
    "    # return final answer\r\n",
    "    return dp[m][n]\r\n",
    "\r\n",
    "\r\n",
    "# Printing the edit distance between s and t\r\n",
    "print(\"string s = \" + s)    # comment this to not print dna sequences\r\n",
    "print(\"string t = \" + t)    # comment this to not print dna sequences\r\n",
    "print(\"\\nEdit distance between s and t:\")\r\n",
    "print(D(s, t))"
   ],
   "outputs": [
    {
     "output_type": "stream",
     "name": "stdout",
     "text": [
      "string s = INTENTION\n",
      "string t = EXECUTION\n",
      "\n",
      "Edit distance between s and t:\n",
      "5\n"
     ]
    }
   ],
   "metadata": {}
  }
 ],
 "metadata": {
  "orig_nbformat": 4,
  "language_info": {
   "name": "python",
   "version": "3.9.7",
   "mimetype": "text/x-python",
   "codemirror_mode": {
    "name": "ipython",
    "version": 3
   },
   "pygments_lexer": "ipython3",
   "nbconvert_exporter": "python",
   "file_extension": ".py"
  },
  "kernelspec": {
   "name": "python3",
   "display_name": "Python 3.9.7 64-bit"
  },
  "interpreter": {
   "hash": "c9d0e44e1af8a4fe8a3c59f611dbde73d972ad7f1d10b20fb5d7e03f782a71e5"
  }
 },
 "nbformat": 4,
 "nbformat_minor": 2
}