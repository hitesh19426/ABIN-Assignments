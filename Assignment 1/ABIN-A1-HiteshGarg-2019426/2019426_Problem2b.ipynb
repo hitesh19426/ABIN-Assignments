{
 "cells": [
  {
   "cell_type": "code",
   "execution_count": 5,
   "source": [
    "# Input DNA sequences\r\n",
    "DNAs = [\"GATTACA\", \"TAGACCA\", \"ATACA\"]\r\n",
    "n = len(DNAs)\r\n",
    "\r\n",
    "# --- Uncomment this section to take input from terminal ---- #\r\n",
    "# n = int(input(\"Enter number of DNA sequences: \"))\r\n",
    "# DNAs = []\r\n",
    "# for i in range(0, n):\r\n",
    "#     DNAs.append(input(\"Enter seq \"+str(i+1)+\": \"))\r\n",
    "# --- Uncomment this section to take input from terminal ---- #\r\n",
    "\r\n",
    "# Checking whether target substring exists in all DNA sequences or not\r\n",
    "def findAll(DNAs, target):\r\n",
    "    for DNA in DNAs:\r\n",
    "        if(DNA.find(target) == -1):\r\n",
    "            return False\r\n",
    "    return True\r\n",
    "\r\n",
    "# Finding all the longest common string among the given DNA sequences\r\n",
    "def longest_common_substring(DNAs):\r\n",
    "    # If there is no DNA sequence, return empty list\r\n",
    "    if(len(DNAs)==0):\r\n",
    "        return []\r\n",
    "    \r\n",
    "    # since longest length subtring in common in all sequences, it must be present in first sequence also.\r\n",
    "    # So we iterate over all the substrings of first DNA and if the len of current target substring is larger\r\n",
    "    # than longest substrings found so far, then update the substring. If len of target is equal to longest string \r\n",
    "    # found so far, then add it to the result.\r\n",
    "    longest_strings = []    # string, len\r\n",
    "    for i in range(len(DNAs[0])):\r\n",
    "        for j in range(i, len(DNAs[0])):\r\n",
    "            target = DNAs[0][i:j+1]\r\n",
    "\r\n",
    "            if(findAll(DNAs, target)):\r\n",
    "                if(len(longest_strings)==0 or longest_strings[0][1] == len(target)):\r\n",
    "                    longest_strings.append( (target, len(target)) )\r\n",
    "                elif(longest_strings[0][1] < len(target)):\r\n",
    "                    longest_strings = []\r\n",
    "                    longest_strings.append( (target, len(target)) )\r\n",
    "    return longest_strings\r\n",
    "\r\n",
    "\r\n",
    "# Printing all the longest length sequences\r\n",
    "# If no substring can be found, then it prints error message\r\n",
    "ans = longest_common_substring(DNAs)\r\n",
    "if(len(DNAs)==0):\r\n",
    "    print(\"Please enter some DNA sequences ;)\")\r\n",
    "elif(len(ans)==0):\r\n",
    "    print(\"No common substring can be found ;)\")\r\n",
    "else:\r\n",
    "    print(\"Input:\", DNAs) # comment this to not print dna sequences\r\n",
    "    print()\r\n",
    "    print(\"Longest length common subsequences found: \")\r\n",
    "    for str in ans:\r\n",
    "        print(str[0], end = \", \")\r\n"
   ],
   "outputs": [
    {
     "output_type": "stream",
     "name": "stdout",
     "text": [
      "Input: ['GATTACA', 'TAGACCA', 'ATACA']\n",
      "\n",
      "Longest length common subsequences found: \n",
      "TA, AC, CA, "
     ]
    }
   ],
   "metadata": {}
  }
 ],
 "metadata": {
  "orig_nbformat": 4,
  "language_info": {
   "name": "python",
   "version": "3.9.7",
   "mimetype": "text/x-python",
   "codemirror_mode": {
    "name": "ipython",
    "version": 3
   },
   "pygments_lexer": "ipython3",
   "nbconvert_exporter": "python",
   "file_extension": ".py"
  },
  "kernelspec": {
   "name": "python3",
   "display_name": "Python 3.9.7 64-bit"
  },
  "interpreter": {
   "hash": "c9d0e44e1af8a4fe8a3c59f611dbde73d972ad7f1d10b20fb5d7e03f782a71e5"
  }
 },
 "nbformat": 4,
 "nbformat_minor": 2
}