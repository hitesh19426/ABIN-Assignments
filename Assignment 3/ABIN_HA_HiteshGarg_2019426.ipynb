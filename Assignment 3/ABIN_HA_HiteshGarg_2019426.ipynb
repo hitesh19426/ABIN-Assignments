{
 "cells": [
  {
   "cell_type": "markdown",
   "metadata": {},
   "source": [
    "# Q1"
   ]
  },
  {
   "cell_type": "markdown",
   "metadata": {},
   "source": [
    "**Input:**\n",
    "There are 2 code blocks below:\n",
    "- Execute the first to run the code for default input.\n",
    "- Execute the second to enter variable input."
   ]
  },
  {
   "cell_type": "code",
   "execution_count": 1,
   "metadata": {},
   "outputs": [],
   "source": [
    "# default input\n",
    "DNA_string = \"ATGCCGTAGGATCATTGACTTAC\""
   ]
  },
  {
   "cell_type": "code",
   "execution_count": null,
   "metadata": {},
   "outputs": [],
   "source": [
    "# variable input\n",
    "DNA_string = input(\"Enter DNA String: \")"
   ]
  },
  {
   "cell_type": "markdown",
   "metadata": {},
   "source": [
    "**LOGIC:**\n",
    "- First convert the string into list since string are immutable\n",
    "- Then create a dict to replace each string each required character (as shown in question).\n",
    "- Then we print the original DNA string and the output."
   ]
  },
  {
   "cell_type": "code",
   "execution_count": 2,
   "metadata": {},
   "outputs": [
    {
     "name": "stdout",
     "output_type": "stream",
     "text": [
      "Input String: ATGCCGTAGGATCATTGACTTAC\n",
      "Output String: GCATTACGAAGCTGCCAGTCCGT\n"
     ]
    }
   ],
   "source": [
    "DNA = list(DNA_string)\n",
    "convert = {'A': 'G', 'T': 'C', 'G':'A', 'C':'T'}\n",
    "\n",
    "for i in range(0, len(DNA)):\n",
    "    DNA[i] = convert[DNA[i]]\n",
    "\n",
    "output_DNA = \"\".join(DNA)\n",
    "\n",
    "print(\"Input String:\", DNA_string)\n",
    "print(\"Output String:\", output_DNA)"
   ]
  },
  {
   "cell_type": "markdown",
   "metadata": {},
   "source": [
    "# Q2"
   ]
  },
  {
   "cell_type": "markdown",
   "metadata": {},
   "source": [
    "**Input:**\n",
    "There are 2 code blocks below:\n",
    "- Execute the first to run the code for default input.\n",
    "- Execute the second to enter variable input."
   ]
  },
  {
   "cell_type": "code",
   "execution_count": 3,
   "metadata": {},
   "outputs": [],
   "source": [
    "# default input\n",
    "DNA_string = \"AAAACCCGGT\""
   ]
  },
  {
   "cell_type": "code",
   "execution_count": null,
   "metadata": {},
   "outputs": [],
   "source": [
    "# variable input\n",
    "DNA_string = input(\"Enter DNA String: \")"
   ]
  },
  {
   "cell_type": "markdown",
   "metadata": {},
   "source": [
    "**LOGIC:**\n",
    "- First convert the string into list since string are immutable\n",
    "- Then create a dict to replace each string each required character (as shown in question).\n",
    "- Then reverse the string\n",
    "- Then print the original DNA string and the output."
   ]
  },
  {
   "cell_type": "code",
   "execution_count": 4,
   "metadata": {},
   "outputs": [
    {
     "name": "stdout",
     "output_type": "stream",
     "text": [
      "Input String: AAAACCCGGT\n",
      "Output String: ACCGGGTTTT\n"
     ]
    }
   ],
   "source": [
    "DNA = list(DNA_string)\n",
    "convert = {'A': 'T', 'T': 'A', 'G':'C', 'C':'G'}\n",
    "\n",
    "for i in range(0, len(DNA)):\n",
    "    DNA[i] = convert[DNA[i]]\n",
    "\n",
    "DNA = DNA[::-1]\n",
    "output_DNA = \"\".join(DNA)\n",
    "\n",
    "print(\"Input String:\", DNA_string)\n",
    "print(\"Output String:\", output_DNA)"
   ]
  },
  {
   "cell_type": "markdown",
   "metadata": {},
   "source": [
    "# Q3"
   ]
  },
  {
   "cell_type": "markdown",
   "metadata": {},
   "source": [
    "**Input:**\n",
    "There are 2 code blocks below:\n",
    "- Execute the first to run the code for default input.\n",
    "- Execute the second to enter variable input."
   ]
  },
  {
   "cell_type": "code",
   "execution_count": 5,
   "metadata": {},
   "outputs": [],
   "source": [
    "# default input\n",
    "DNA = \"GATGAT\"\n",
    "k = 3"
   ]
  },
  {
   "cell_type": "code",
   "execution_count": null,
   "metadata": {},
   "outputs": [],
   "source": [
    "# variable input\n",
    "DNA = input(\"Enter DNA String: \")\n",
    "k = int(input(\"Enter kmer length: \"))"
   ]
  },
  {
   "cell_type": "markdown",
   "metadata": {},
   "source": [
    "There are two code blocks below:\n",
    "- Execute the first one to print all kmers for the input string\n",
    "- Execute the second to print all *unique* kmers for the input string\n",
    "\n",
    "**LOGIC:**\n",
    "- Iterate over each index and print the k-length substring (kmer)\n",
    "- For unique kmers, we enter each kmer into a set and then print it"
   ]
  },
  {
   "cell_type": "code",
   "execution_count": 6,
   "metadata": {},
   "outputs": [
    {
     "name": "stdout",
     "output_type": "stream",
     "text": [
      "GAT\n",
      "ATG\n",
      "TGA\n",
      "GAT\n"
     ]
    }
   ],
   "source": [
    "for i in range(0, len(DNA)-k+1):\n",
    "    print(DNA[i: i+k])"
   ]
  },
  {
   "cell_type": "code",
   "execution_count": 7,
   "metadata": {},
   "outputs": [
    {
     "name": "stdout",
     "output_type": "stream",
     "text": [
      "GAT\n",
      "ATG\n",
      "TGA\n"
     ]
    }
   ],
   "source": [
    "kmers = []\n",
    "for i in range(0, len(DNA)-k+1):\n",
    "    kmers.append(DNA[i: i+k])\n",
    "\n",
    "for kmer in set(kmers):\n",
    "    print(kmer)"
   ]
  },
  {
   "cell_type": "markdown",
   "metadata": {},
   "source": [
    "# Q4"
   ]
  },
  {
   "cell_type": "markdown",
   "metadata": {},
   "source": [
    "**Input:**\n",
    "There are 2 code blocks below:\n",
    "- Execute the first to run the code for default input.\n",
    "- Execute the second to enter variable input."
   ]
  },
  {
   "cell_type": "code",
   "execution_count": 8,
   "metadata": {},
   "outputs": [],
   "source": [
    "# default input\n",
    "DNA = \"AGCTTTTCATTCTGACTGCAACGGGCAATATGTCTCTGTGTGGATTAAAAAAAGAGTGTCTGATAGCAGC\""
   ]
  },
  {
   "cell_type": "code",
   "execution_count": null,
   "metadata": {},
   "outputs": [],
   "source": [
    "# variable input\n",
    "DNA = input(\"Enter DNA String: \")"
   ]
  },
  {
   "cell_type": "markdown",
   "metadata": {},
   "source": [
    "- Create a dict to maintain count of A, T, G, C\n",
    "- iterate over DNA string and increase keep count\n",
    "- Print counts"
   ]
  },
  {
   "cell_type": "code",
   "execution_count": 9,
   "metadata": {},
   "outputs": [
    {
     "name": "stdout",
     "output_type": "stream",
     "text": [
      "Input String: AGCTTTTCATTCTGACTGCAACGGGCAATATGTCTCTGTGTGGATTAAAAAAAGAGTGTCTGATAGCAGC\n",
      "{'A': 20, 'C': 12, 'G': 17, 'T': 21}\n"
     ]
    }
   ],
   "source": [
    "count = {'A': 0, 'C': 0, 'G': 0, 'T': 0}\n",
    "\n",
    "for i in range(0, len(DNA)):\n",
    "    count[DNA[i]] += 1\n",
    "\n",
    "print(\"Input String:\", DNA)\n",
    "print(count)"
   ]
  },
  {
   "cell_type": "markdown",
   "metadata": {},
   "source": [
    "# Q5"
   ]
  },
  {
   "cell_type": "markdown",
   "metadata": {},
   "source": [
    "**Input:**\n",
    "There are 2 code blocks below:\n",
    "- Execute the first to run the code for default input.\n",
    "- Execute the second to enter variable input."
   ]
  },
  {
   "cell_type": "code",
   "execution_count": 10,
   "metadata": {},
   "outputs": [],
   "source": [
    "# default input\n",
    "str1 = \"GATATATGCATATACTT\"\n",
    "str2 = \"ATAT\""
   ]
  },
  {
   "cell_type": "code",
   "execution_count": null,
   "metadata": {},
   "outputs": [],
   "source": [
    "# variable input\n",
    "str1 = input(\"Enter string 1: \")\n",
    "str1 = input(\"Enter string 2: \")"
   ]
  },
  {
   "cell_type": "markdown",
   "metadata": {},
   "source": [
    "- Initialize start = 0 and find the first occurence of str2 in str1.\n",
    "- Find the next substring by searching from previous index + 1\n",
    "- Keep adjusting the start and find the index repeatedly until it exists.\n",
    "- Print all the positions found"
   ]
  },
  {
   "cell_type": "code",
   "execution_count": 11,
   "metadata": {},
   "outputs": [
    {
     "name": "stdout",
     "output_type": "stream",
     "text": [
      "2\n",
      "4\n",
      "10\n"
     ]
    }
   ],
   "source": [
    "start = 0\n",
    "index = str1.find(str2, start)\n",
    "\n",
    "while(index != -1):\n",
    "    print(index+1)\n",
    "    start = index+1\n",
    "    index = str1.find(str2, start)"
   ]
  },
  {
   "cell_type": "markdown",
   "metadata": {},
   "source": [
    "# Q6"
   ]
  },
  {
   "cell_type": "code",
   "execution_count": 1,
   "metadata": {},
   "outputs": [],
   "source": [
    "from collections import defaultdict"
   ]
  },
  {
   "cell_type": "code",
   "execution_count": 2,
   "metadata": {},
   "outputs": [],
   "source": [
    "def funcCall(g):\n",
    "  return breakup(g)\n",
    "\n",
    "def appending_in_list(myList, a, b):\n",
    "  myList.append((a,b))\n",
    "\n",
    "def breakup(g): \n",
    "  #GFG\n",
    "    lis = returnList()\n",
    "    for myNode in g:\n",
    "        for myNeighbour in g[myNode]:\n",
    "          appending_in_list(lis, myNode, myNeighbour)\n",
    "    return mirror(lis)\n",
    "\n",
    "def mirror(X):\n",
    "  return X\n",
    "\n",
    "def returnList():\n",
    "  meri_list = []\n",
    "  return meri_list\n",
    "\n",
    "\n",
    "def mera_appending_left_to_right(mydict, u, v):\n",
    "  mydict[u].append(v)\n",
    "\n",
    "def getKmer(dna, i , k):\n",
    "  return dna[i:i+k] \n",
    "\n",
    "def getLength(s):\n",
    "  return len(s)"
   ]
  },
  {
   "cell_type": "code",
   "execution_count": 3,
   "metadata": {},
   "outputs": [],
   "source": [
    "#default input\n",
    "ggg = defaultdict(list)\n",
    "dna = \"TGTAGAAAGTACCCAGTGCTCAGTATAG\"  \n",
    "k = 5 \n",
    "n =  getLength(dna) "
   ]
  },
  {
   "cell_type": "code",
   "execution_count": 4,
   "metadata": {},
   "outputs": [],
   "source": [
    "for i in range(n-k+1):  \n",
    "  kmer = getKmer(dna, i, k)    \n",
    "  l =  getLength(kmer)       \n",
    "  mera_appending_left_to_right(ggg, kmer[0:l-1], kmer[1:l]  )\n",
    "  funcCall(ggg)"
   ]
  },
  {
   "cell_type": "code",
   "execution_count": 5,
   "metadata": {},
   "outputs": [
    {
     "name": "stdout",
     "output_type": "stream",
     "text": [
      "The output of Q6 is: {'TGTA': ['GTAG'], 'GTAG': ['TAGA'], 'TAGA': ['AGAA'], 'AGAA': ['GAAA'], 'GAAA': ['AAAG'], 'AAAG': ['AAGT'], 'AAGT': ['AGTA'], 'AGTA': ['GTAC', 'GTAT'], 'GTAC': ['TACC'], 'TACC': ['ACCC'], 'ACCC': ['CCCA'], 'CCCA': ['CCAG'], 'CCAG': ['CAGT'], 'CAGT': ['AGTG', 'AGTA'], 'AGTG': ['GTGC'], 'GTGC': ['TGCT'], 'TGCT': ['GCTC'], 'GCTC': ['CTCA'], 'CTCA': ['TCAG'], 'TCAG': ['CAGT'], 'GTAT': ['TATA'], 'TATA': ['ATAG']}\n"
     ]
    }
   ],
   "source": [
    "def convert_2_string(blah):\n",
    "  return str(blah)\n",
    "\n",
    "hitu = dict(ggg)\n",
    "hitu_2_string = convert_2_string(hitu)\n",
    "print(\"The output of Q6 is: \" + hitu_2_string )"
   ]
  }
 ],
 "metadata": {
  "interpreter": {
   "hash": "2be5faf79681da6f2a61fdfdd5405d65d042280f7fba6178067603e3a2925119"
  },
  "kernelspec": {
   "display_name": "Python 3.10.0 64-bit",
   "name": "python3"
  },
  "language_info": {
   "codemirror_mode": {
    "name": "ipython",
    "version": 3
   },
   "file_extension": ".py",
   "mimetype": "text/x-python",
   "name": "python",
   "nbconvert_exporter": "python",
   "pygments_lexer": "ipython3",
   "version": "3.10.0"
  },
  "orig_nbformat": 4
 },
 "nbformat": 4,
 "nbformat_minor": 2
}
